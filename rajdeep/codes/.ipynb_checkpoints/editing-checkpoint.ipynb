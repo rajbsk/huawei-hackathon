{
 "cells": [
  {
   "cell_type": "code",
   "execution_count": 14,
   "metadata": {},
   "outputs": [],
   "source": [
    "import pandas as pd"
   ]
  },
  {
   "cell_type": "code",
   "execution_count": 43,
   "metadata": {},
   "outputs": [
    {
     "name": "stderr",
     "output_type": "stream",
     "text": [
      "/home/rajsar/myenv/lib/python3.6/site-packages/ipykernel_launcher.py:4: SettingWithCopyWarning: \n",
      "A value is trying to be set on a copy of a slice from a DataFrame\n",
      "\n",
      "See the caveats in the documentation: http://pandas.pydata.org/pandas-docs/stable/user_guide/indexing.html#returning-a-view-versus-a-copy\n",
      "  after removing the cwd from sys.path.\n",
      "/home/rajsar/myenv/lib/python3.6/site-packages/ipykernel_launcher.py:5: SettingWithCopyWarning: \n",
      "A value is trying to be set on a copy of a slice from a DataFrame\n",
      "\n",
      "See the caveats in the documentation: http://pandas.pydata.org/pandas-docs/stable/user_guide/indexing.html#returning-a-view-versus-a-copy\n",
      "  \"\"\"\n",
      "/home/rajsar/myenv/lib/python3.6/site-packages/ipykernel_launcher.py:6: SettingWithCopyWarning: \n",
      "A value is trying to be set on a copy of a slice from a DataFrame\n",
      "\n",
      "See the caveats in the documentation: http://pandas.pydata.org/pandas-docs/stable/user_guide/indexing.html#returning-a-view-versus-a-copy\n",
      "  \n"
     ]
    }
   ],
   "source": [
    "idx = 2\n",
    "df = pd.read_csv(\"../data/data_v2/dataset_\"+str(idx)+\".csv\")\n",
    "df_anomaly_labels = df[\"anomaly_label\"]\n",
    "df_anomaly_labels[:] = 0\n",
    "df_anomaly_labels[2586:2630] = 1\n",
    "df_anomaly_labels[3550:3600] = 1\n",
    "df[\"anomaly_label\"] = df_anomaly_labels\n",
    "df.to_csv(\"../data/data_v2/dataset_\"+str(idx)+\".csv\", index = False, header = True)"
   ]
  },
  {
   "cell_type": "code",
   "execution_count": 41,
   "metadata": {},
   "outputs": [
    {
     "name": "stderr",
     "output_type": "stream",
     "text": [
      "/home/rajsar/myenv/lib/python3.6/site-packages/ipykernel_launcher.py:4: SettingWithCopyWarning: \n",
      "A value is trying to be set on a copy of a slice from a DataFrame\n",
      "\n",
      "See the caveats in the documentation: http://pandas.pydata.org/pandas-docs/stable/user_guide/indexing.html#returning-a-view-versus-a-copy\n",
      "  after removing the cwd from sys.path.\n",
      "/home/rajsar/myenv/lib/python3.6/site-packages/ipykernel_launcher.py:5: SettingWithCopyWarning: \n",
      "A value is trying to be set on a copy of a slice from a DataFrame\n",
      "\n",
      "See the caveats in the documentation: http://pandas.pydata.org/pandas-docs/stable/user_guide/indexing.html#returning-a-view-versus-a-copy\n",
      "  \"\"\"\n"
     ]
    }
   ],
   "source": [
    "idx = 3\n",
    "df = pd.read_csv(\"../data/data_v2/dataset_\"+str(idx)+\".csv\")\n",
    "df_anomaly_labels = df[\"anomaly_label\"]\n",
    "df_anomaly_labels[:] = 0\n",
    "df_anomaly_labels[3081:3200] = 1\n",
    "df[\"anomaly_label\"] = df_anomaly_labels\n",
    "df.to_csv(\"../data/data_v2/dataset_\"+str(idx)+\".csv\", index = False, header = True)"
   ]
  },
  {
   "cell_type": "code",
   "execution_count": null,
   "metadata": {},
   "outputs": [],
   "source": [
    "idx = 4\n",
    "df = pd.read_csv(\"../data/data_v2/dataset_\"+str(idx)+\".csv\")\n",
    "df_anomaly_labels = df[\"anomaly_label\"]\n",
    "df_anomaly_labels[19000:20000] = 1\n",
    "df[\"anomaly_label\"] = df_anomaly_labels\n",
    "df.to_csv(\"../data/data_v2/dataset_\"+str(idx)+\".csv\", index = False, header = True)"
   ]
  },
  {
   "cell_type": "code",
   "execution_count": 20,
   "metadata": {},
   "outputs": [
    {
     "name": "stderr",
     "output_type": "stream",
     "text": [
      "/home/rajsar/myenv/lib/python3.6/site-packages/ipykernel_launcher.py:4: SettingWithCopyWarning: \n",
      "A value is trying to be set on a copy of a slice from a DataFrame\n",
      "\n",
      "See the caveats in the documentation: http://pandas.pydata.org/pandas-docs/stable/user_guide/indexing.html#returning-a-view-versus-a-copy\n",
      "  after removing the cwd from sys.path.\n"
     ]
    }
   ],
   "source": [
    "idx = 6\n",
    "df = pd.read_csv(\"../data/data_v2/dataset_\"+str(idx)+\".csv\")\n",
    "df_anomaly_labels = df[\"anomaly_label\"]\n",
    "df_anomaly_labels[3750:] = 1\n",
    "df[\"anomaly_label\"] = df_anomaly_labels\n",
    "df.to_csv(\"../data/data_v2/dataset_\"+str(idx)+\".csv\", index = False, header = True)"
   ]
  },
  {
   "cell_type": "code",
   "execution_count": 21,
   "metadata": {},
   "outputs": [
    {
     "name": "stderr",
     "output_type": "stream",
     "text": [
      "/home/rajsar/myenv/lib/python3.6/site-packages/ipykernel_launcher.py:4: SettingWithCopyWarning: \n",
      "A value is trying to be set on a copy of a slice from a DataFrame\n",
      "\n",
      "See the caveats in the documentation: http://pandas.pydata.org/pandas-docs/stable/user_guide/indexing.html#returning-a-view-versus-a-copy\n",
      "  after removing the cwd from sys.path.\n"
     ]
    }
   ],
   "source": [
    "idx = 9\n",
    "df = pd.read_csv(\"../data/data_v2/dataset_\"+str(idx)+\".csv\")\n",
    "df_anomaly_labels = df[\"anomaly_label\"]\n",
    "df_anomaly_labels[450:550] = 1\n",
    "df[\"anomaly_label\"] = df_anomaly_labels\n",
    "df.to_csv(\"../data/data_v2/dataset_\"+str(idx)+\".csv\", index = False, header = True)"
   ]
  },
  {
   "cell_type": "code",
   "execution_count": 31,
   "metadata": {},
   "outputs": [
    {
     "name": "stderr",
     "output_type": "stream",
     "text": [
      "/home/rajsar/myenv/lib/python3.6/site-packages/ipykernel_launcher.py:4: SettingWithCopyWarning: \n",
      "A value is trying to be set on a copy of a slice from a DataFrame\n",
      "\n",
      "See the caveats in the documentation: http://pandas.pydata.org/pandas-docs/stable/user_guide/indexing.html#returning-a-view-versus-a-copy\n",
      "  after removing the cwd from sys.path.\n",
      "/home/rajsar/myenv/lib/python3.6/site-packages/ipykernel_launcher.py:5: SettingWithCopyWarning: \n",
      "A value is trying to be set on a copy of a slice from a DataFrame\n",
      "\n",
      "See the caveats in the documentation: http://pandas.pydata.org/pandas-docs/stable/user_guide/indexing.html#returning-a-view-versus-a-copy\n",
      "  \"\"\"\n"
     ]
    }
   ],
   "source": [
    "idx = 10\n",
    "df = pd.read_csv(\"../data/data_v2/dataset_\"+str(idx)+\".csv\")\n",
    "df_anomaly_labels = df[\"anomaly_label\"]\n",
    "df_anomaly_labels[:] = 0\n",
    "df_anomaly_labels[2850:3180] = 1\n",
    "df[\"anomaly_label\"] = df_anomaly_labels\n",
    "df.to_csv(\"../data/data_v2/dataset_\"+str(idx)+\".csv\", index = False, header = True)"
   ]
  },
  {
   "cell_type": "code",
   "execution_count": 34,
   "metadata": {},
   "outputs": [
    {
     "name": "stderr",
     "output_type": "stream",
     "text": [
      "/home/rajsar/myenv/lib/python3.6/site-packages/ipykernel_launcher.py:4: SettingWithCopyWarning: \n",
      "A value is trying to be set on a copy of a slice from a DataFrame\n",
      "\n",
      "See the caveats in the documentation: http://pandas.pydata.org/pandas-docs/stable/user_guide/indexing.html#returning-a-view-versus-a-copy\n",
      "  after removing the cwd from sys.path.\n",
      "/home/rajsar/myenv/lib/python3.6/site-packages/ipykernel_launcher.py:5: SettingWithCopyWarning: \n",
      "A value is trying to be set on a copy of a slice from a DataFrame\n",
      "\n",
      "See the caveats in the documentation: http://pandas.pydata.org/pandas-docs/stable/user_guide/indexing.html#returning-a-view-versus-a-copy\n",
      "  \"\"\"\n"
     ]
    }
   ],
   "source": [
    "idx = 11\n",
    "df = pd.read_csv(\"../data/data_v2/dataset_\"+str(idx)+\".csv\")\n",
    "df_anomaly_labels = df[\"anomaly_label\"]\n",
    "df_anomaly_labels[:] = 0\n",
    "df_anomaly_labels[2000:2016] = 1\n",
    "df[\"anomaly_label\"] = df_anomaly_labels\n",
    "df.to_csv(\"../data/data_v2/dataset_\"+str(idx)+\".csv\", index = False, header = True)"
   ]
  },
  {
   "cell_type": "code",
   "execution_count": 33,
   "metadata": {},
   "outputs": [
    {
     "name": "stderr",
     "output_type": "stream",
     "text": [
      "/home/rajsar/myenv/lib/python3.6/site-packages/ipykernel_launcher.py:4: SettingWithCopyWarning: \n",
      "A value is trying to be set on a copy of a slice from a DataFrame\n",
      "\n",
      "See the caveats in the documentation: http://pandas.pydata.org/pandas-docs/stable/user_guide/indexing.html#returning-a-view-versus-a-copy\n",
      "  after removing the cwd from sys.path.\n",
      "/home/rajsar/myenv/lib/python3.6/site-packages/ipykernel_launcher.py:5: SettingWithCopyWarning: \n",
      "A value is trying to be set on a copy of a slice from a DataFrame\n",
      "\n",
      "See the caveats in the documentation: http://pandas.pydata.org/pandas-docs/stable/user_guide/indexing.html#returning-a-view-versus-a-copy\n",
      "  \"\"\"\n"
     ]
    }
   ],
   "source": [
    "idx = 12\n",
    "df = pd.read_csv(\"../data/data_v2/dataset_\"+str(idx)+\".csv\")\n",
    "df_anomaly_labels = df[\"anomaly_label\"]\n",
    "df_anomaly_labels[:] = 0\n",
    "df_anomaly_labels[2900:3100] = 1\n",
    "df[\"anomaly_label\"] = df_anomaly_labels\n",
    "df.to_csv(\"../data/data_v2/dataset_\"+str(idx)+\".csv\", index = False, header = True)"
   ]
  },
  {
   "cell_type": "code",
   "execution_count": 32,
   "metadata": {},
   "outputs": [
    {
     "name": "stderr",
     "output_type": "stream",
     "text": [
      "/home/rajsar/myenv/lib/python3.6/site-packages/ipykernel_launcher.py:4: SettingWithCopyWarning: \n",
      "A value is trying to be set on a copy of a slice from a DataFrame\n",
      "\n",
      "See the caveats in the documentation: http://pandas.pydata.org/pandas-docs/stable/user_guide/indexing.html#returning-a-view-versus-a-copy\n",
      "  after removing the cwd from sys.path.\n",
      "/home/rajsar/myenv/lib/python3.6/site-packages/ipykernel_launcher.py:5: SettingWithCopyWarning: \n",
      "A value is trying to be set on a copy of a slice from a DataFrame\n",
      "\n",
      "See the caveats in the documentation: http://pandas.pydata.org/pandas-docs/stable/user_guide/indexing.html#returning-a-view-versus-a-copy\n",
      "  \"\"\"\n"
     ]
    }
   ],
   "source": [
    "idx = 13\n",
    "df = pd.read_csv(\"../data/data_v2/dataset_\"+str(idx)+\".csv\")\n",
    "df_anomaly_labels = df[\"anomaly_label\"]\n",
    "df_anomaly_labels[:] = 0\n",
    "df_anomaly_labels[16948:17110] = 1\n",
    "df[\"anomaly_label\"] = df_anomaly_labels\n",
    "df.to_csv(\"../data/data_v2/dataset_\"+str(idx)+\".csv\", index = False, header = True)"
   ]
  },
  {
   "cell_type": "code",
   "execution_count": 24,
   "metadata": {},
   "outputs": [
    {
     "name": "stderr",
     "output_type": "stream",
     "text": [
      "/home/rajsar/myenv/lib/python3.6/site-packages/ipykernel_launcher.py:4: SettingWithCopyWarning: \n",
      "A value is trying to be set on a copy of a slice from a DataFrame\n",
      "\n",
      "See the caveats in the documentation: http://pandas.pydata.org/pandas-docs/stable/user_guide/indexing.html#returning-a-view-versus-a-copy\n",
      "  after removing the cwd from sys.path.\n"
     ]
    }
   ],
   "source": [
    "idx = 106\n",
    "df = pd.read_csv(\"../data/data_v2/dataset_\"+str(idx)+\".csv\")\n",
    "df_anomaly_labels = df[\"anomaly_label\"]\n",
    "df_anomaly_labels[10500:] = 0\n",
    "df[\"anomaly_label\"] = df_anomaly_labels\n",
    "df.to_csv(\"../data/data_v2/dataset_\"+str(idx)+\".csv\", index = False, header = True)"
   ]
  },
  {
   "cell_type": "code",
   "execution_count": null,
   "metadata": {},
   "outputs": [],
   "source": []
  }
 ],
 "metadata": {
  "kernelspec": {
   "display_name": "Python (myenv)",
   "language": "python",
   "name": "myenv"
  },
  "language_info": {
   "codemirror_mode": {
    "name": "ipython",
    "version": 3
   },
   "file_extension": ".py",
   "mimetype": "text/x-python",
   "name": "python",
   "nbconvert_exporter": "python",
   "pygments_lexer": "ipython3",
   "version": "3.6.9"
  }
 },
 "nbformat": 4,
 "nbformat_minor": 4
}
